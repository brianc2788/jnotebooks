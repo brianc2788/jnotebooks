{
 "cells": [
  {
   "cell_type": "markdown",
   "id": "e74eae76",
   "metadata": {},
   "source": [
    "<!---\n",
    "pandas-csv-01.ipynb\n",
    "----------------\n",
    "Reference for reading & manipulating\n",
    "csv files with panda's csv_reader method.\n",
    "--->\n",
    "<hr><hr>\n",
    "<h1>Reading CSV files with <a href=\"https://pandas.pydata.org\">pandas</a></h1>\n",
    "<p><strong><em>Authored by: <a href=mailto:brianc2788@gmail.com>brianc2788@gmail.com</a></em></strong></p>\n",
    "<hr>"
   ]
  },
  {
   "cell_type": "code",
   "execution_count": 1,
   "id": "da854108",
   "metadata": {},
   "outputs": [],
   "source": [
    "import pandas as pd\n",
    "import os"
   ]
  },
  {
   "cell_type": "markdown",
   "id": "3860ef2f",
   "metadata": {},
   "source": [
    "<p>\n",
    "<strong>nb-pcap-01.csv :</strong><br>\n",
    "The file referenced is a miscellaneous dump of packets captured via wifi monitor-mode while in a moving vehicle.<br>\n",
    "This was a completely passive capture activity.\n",
    "</p>"
   ]
  },
  {
   "cell_type": "code",
   "execution_count": 2,
   "id": "cef95606",
   "metadata": {},
   "outputs": [],
   "source": [
    "'''\n",
    "dont need open().\n",
    "csv = pd.read_csv(path)\n",
    "'''\n",
    "csv_path = os.path.join(os.getcwd(),'rc','nb-pcap-01.csv')\n",
    "csv1 = None\n",
    "with open(csv_path) as csvfile:\n",
    "\n",
    "          csv1 = pd.read_csv(csvfile)"
   ]
  },
  {
   "cell_type": "code",
   "execution_count": 3,
   "id": "063d5115",
   "metadata": {},
   "outputs": [
    {
     "data": {
      "text/html": [
       "<div>\n",
       "<style scoped>\n",
       "    .dataframe tbody tr th:only-of-type {\n",
       "        vertical-align: middle;\n",
       "    }\n",
       "\n",
       "    .dataframe tbody tr th {\n",
       "        vertical-align: top;\n",
       "    }\n",
       "\n",
       "    .dataframe thead th {\n",
       "        text-align: right;\n",
       "    }\n",
       "</style>\n",
       "<table border=\"1\" class=\"dataframe\">\n",
       "  <thead>\n",
       "    <tr style=\"text-align: right;\">\n",
       "      <th></th>\n",
       "      <th>Power</th>\n",
       "      <th># beacons</th>\n",
       "      <th># IV</th>\n",
       "      <th>ID-length</th>\n",
       "    </tr>\n",
       "  </thead>\n",
       "  <tbody>\n",
       "    <tr>\n",
       "      <th>count</th>\n",
       "      <td>506.000000</td>\n",
       "      <td>506.000000</td>\n",
       "      <td>506.000000</td>\n",
       "      <td>506.000000</td>\n",
       "    </tr>\n",
       "    <tr>\n",
       "      <th>mean</th>\n",
       "      <td>-70.217391</td>\n",
       "      <td>7.227273</td>\n",
       "      <td>1.264822</td>\n",
       "      <td>10.841897</td>\n",
       "    </tr>\n",
       "    <tr>\n",
       "      <th>std</th>\n",
       "      <td>12.901461</td>\n",
       "      <td>40.393335</td>\n",
       "      <td>8.992903</td>\n",
       "      <td>7.310016</td>\n",
       "    </tr>\n",
       "    <tr>\n",
       "      <th>min</th>\n",
       "      <td>-82.000000</td>\n",
       "      <td>0.000000</td>\n",
       "      <td>0.000000</td>\n",
       "      <td>0.000000</td>\n",
       "    </tr>\n",
       "    <tr>\n",
       "      <th>25%</th>\n",
       "      <td>-75.000000</td>\n",
       "      <td>1.000000</td>\n",
       "      <td>0.000000</td>\n",
       "      <td>7.000000</td>\n",
       "    </tr>\n",
       "    <tr>\n",
       "      <th>50%</th>\n",
       "      <td>-73.000000</td>\n",
       "      <td>3.000000</td>\n",
       "      <td>0.000000</td>\n",
       "      <td>10.000000</td>\n",
       "    </tr>\n",
       "    <tr>\n",
       "      <th>75%</th>\n",
       "      <td>-70.000000</td>\n",
       "      <td>5.000000</td>\n",
       "      <td>0.000000</td>\n",
       "      <td>16.000000</td>\n",
       "    </tr>\n",
       "    <tr>\n",
       "      <th>max</th>\n",
       "      <td>-1.000000</td>\n",
       "      <td>892.000000</td>\n",
       "      <td>159.000000</td>\n",
       "      <td>31.000000</td>\n",
       "    </tr>\n",
       "  </tbody>\n",
       "</table>\n",
       "</div>"
      ],
      "text/plain": [
       "            Power   # beacons        # IV   ID-length\n",
       "count  506.000000  506.000000  506.000000  506.000000\n",
       "mean   -70.217391    7.227273    1.264822   10.841897\n",
       "std     12.901461   40.393335    8.992903    7.310016\n",
       "min    -82.000000    0.000000    0.000000    0.000000\n",
       "25%    -75.000000    1.000000    0.000000    7.000000\n",
       "50%    -73.000000    3.000000    0.000000   10.000000\n",
       "75%    -70.000000    5.000000    0.000000   16.000000\n",
       "max     -1.000000  892.000000  159.000000   31.000000"
      ]
     },
     "execution_count": 3,
     "metadata": {},
     "output_type": "execute_result"
    }
   ],
   "source": [
    "csv1.describe()"
   ]
  },
  {
   "cell_type": "code",
   "execution_count": 4,
   "id": "47b7bcf0",
   "metadata": {},
   "outputs": [
    {
     "name": "stdout",
     "output_type": "stream",
     "text": [
      "                 BSSID       First time seen        Last time seen  channel  \\\n",
      "0    8C:FE:74:09:60:F8   2022-03-08 12:36:40   2022-03-08 12:36:41        9   \n",
      "1    10:0C:6B:5F:21:7C   2022-03-08 12:36:40   2022-03-08 12:36:40        2   \n",
      "2    06:F0:21:25:24:8F   2022-03-08 12:29:05   2022-03-08 12:36:40        2   \n",
      "3    22:AD:56:25:E3:2A   2022-03-08 12:36:38   2022-03-08 12:36:38       11   \n",
      "4    3C:37:86:51:B3:A2   2022-03-08 12:36:21   2022-03-08 12:36:28        1   \n",
      "..                 ...                   ...                   ...      ...   \n",
      "635  D4:B7:61:50:8A:AC   2022-03-08 12:35:01   2022-03-08 12:35:01      -78   \n",
      "636  1E:12:D7:08:FF:E2   2022-03-08 12:35:01   2022-03-08 12:35:01      -60   \n",
      "637  66:B6:AE:C9:1C:70   2022-03-08 12:35:01   2022-03-08 12:35:01      -47   \n",
      "638  5E:13:A9:31:A4:6D   2022-03-08 12:35:27   2022-03-08 12:35:27      -80   \n",
      "639  9C:8D:7C:B0:C3:FA   2022-03-08 12:35:34   2022-03-08 12:35:34      -76   \n",
      "\n",
      "         Speed             Privacy      Cipher  Authentication   Power  \\\n",
      "0          130                WPA2        CCMP             PSK   -72.0   \n",
      "1           -1                                                    -1.0   \n",
      "2          130                 OPN                               -35.0   \n",
      "3           65                WPA2   CCMP TKIP             PSK   -69.0   \n",
      "4          720                WPA2        CCMP             PSK   -69.0   \n",
      "..         ...                 ...         ...             ...     ...   \n",
      "635          1   A8:6B:AD:E0:A7:28         NaN             NaN     NaN   \n",
      "636          2   (not associated)          NaN             NaN     NaN   \n",
      "637          1   (not associated)          NaN             NaN     NaN   \n",
      "638          1   (not associated)          NaN             NaN     NaN   \n",
      "639          2   (not associated)          NaN             NaN     NaN   \n",
      "\n",
      "      # beacons   # IV            LAN IP   ID-length               ESSID  Key  \n",
      "0           3.0    0.0     0.  0.  0.  0         2.0                  SC       \n",
      "1           0.0    0.0     0.  0.  0.  0         0.0                           \n",
      "2         892.0   12.0   172. 22.  2. 51         4.0                NFTA       \n",
      "3           2.0    0.0     0.  0.  0.  0        11.0         HotspotE32A       \n",
      "4           6.0    4.0     0.  0.  0.  0        17.0   Service Outlet 2g       \n",
      "..          ...    ...               ...         ...                 ...  ...  \n",
      "635         NaN    NaN               NaN         NaN                 NaN  NaN  \n",
      "636         NaN    NaN               NaN         NaN                 NaN  NaN  \n",
      "637         NaN    NaN               NaN         NaN                 NaN  NaN  \n",
      "638         NaN    NaN               NaN         NaN                 NaN  NaN  \n",
      "639         NaN    NaN               NaN         NaN                 NaN  NaN  \n",
      "\n",
      "[640 rows x 15 columns]\n"
     ]
    }
   ],
   "source": [
    "print(csv1)"
   ]
  },
  {
   "cell_type": "markdown",
   "id": "27098e1a",
   "metadata": {},
   "source": [
    "<code>\n",
    "    include <stdio.h>\n",
    "    \n",
    "    int main(void){\n",
    "        return 0;\n",
    "    }\n",
    "</code>"
   ]
  },
  {
   "cell_type": "code",
   "execution_count": null,
   "id": "cefc2793",
   "metadata": {},
   "outputs": [],
   "source": []
  }
 ],
 "metadata": {
  "kernelspec": {
   "display_name": "Python 3 (ipykernel)",
   "language": "python",
   "name": "python3"
  },
  "language_info": {
   "codemirror_mode": {
    "name": "ipython",
    "version": 3
   },
   "file_extension": ".py",
   "mimetype": "text/x-python",
   "name": "python",
   "nbconvert_exporter": "python",
   "pygments_lexer": "ipython3",
   "version": "3.9.10"
  }
 },
 "nbformat": 4,
 "nbformat_minor": 5
}
