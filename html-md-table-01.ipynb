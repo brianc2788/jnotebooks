{
 "cells": [
  {
   "cell_type": "markdown",
   "id": "8a527f8c",
   "metadata": {},
   "source": [
    "<!---\n",
    "html-md-table-01.ipynb\n",
    "----------------------\n",
    "Jupyter notebook containing some examples and\n",
    "a table of HTML & Markdown tags/syntax.\n",
    "--->\n",
    "<hr><hr>\n",
    "<h1>HTML & Markdown</h1>\n",
    "<p>\n",
    "    <strong><em>Authored by: </em></strong><a href=mailto:brianc2788@gmail.com>brianc2788@gmail.com</a><br>\n",
    "    <strong><em>Github: </em></strong><a href=\"https://github.com/user5260/user5260\">user5260</a>\n",
    "</p>\n",
    "<hr>"
   ]
  },
  {
   "cell_type": "markdown",
   "id": "16e92508",
   "metadata": {},
   "source": [
    "<center>\n",
    "    <h4><u>HTML - Markdown Common Formatting Table</u></h4>\n",
    "</center>\n",
    "\n",
    "<!--- Table in Md --->\n",
    "|HTML      |Markdown  |Description|\n",
    "|----------|----------|-----------|\n",
    "|\\<h1>-\\<h4>|# x1-4   |headings   |\n",
    "|\\<b>      |\\*\\*.\\*\\* |bold       |\n",
    "|\\<i>      |\\*.\\*     |italics    |\n",
    "|</<u>     |N/A       |underline  |\n",
    "|\\<ul>\\<ol>|(-)       |lists      |\n",
    "|\\<hr>     |\\-\\-\\-,\\_\\_\\_,\\*\\*\\*|horiz. line|\n",
    "|\\<p>\\<br> |\\w x2     |parag., l. break|\n",
    "<hr>"
   ]
  },
  {
   "cell_type": "markdown",
   "id": "5e41751c",
   "metadata": {},
   "source": [
    "<b><u>Quotes & Code</u></b><br>\n",
    "<blockquote>\n",
    "    blockquote in html.\n",
    "</blockquote>\n",
    "\n",
    "```python\n",
    "'''\n",
    "Three back-ticks(`) in Markdown will get you a 'code quote'.\n",
    "Not all Markdown engines make use of syntax highlighting,\n",
    "but some do, including Github's. Each language must be\n",
    "identified directly after the triple back-tick(`).\n",
    "'''\n",
    "import this #python easter-egg\n",
    "string1 = 'string one'\n",
    "num1 = 12\n",
    "print(num1,string1,sep='-')\n",
    "```"
   ]
  },
  {
   "cell_type": "markdown",
   "id": "87cf205a",
   "metadata": {},
   "source": [
    "<i>To be continued...</i>"
   ]
  }
 ],
 "metadata": {
  "kernelspec": {
   "display_name": "Python 3 (ipykernel)",
   "language": "python",
   "name": "python3"
  },
  "language_info": {
   "codemirror_mode": {
    "name": "ipython",
    "version": 3
   },
   "file_extension": ".py",
   "mimetype": "text/x-python",
   "name": "python",
   "nbconvert_exporter": "python",
   "pygments_lexer": "ipython3",
   "version": "3.9.10"
  }
 },
 "nbformat": 4,
 "nbformat_minor": 5
}
