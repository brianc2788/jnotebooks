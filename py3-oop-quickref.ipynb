{
 "cells": [
  {
   "cell_type": "markdown",
   "id": "4c7f453d",
   "metadata": {},
   "source": [
    "<!---\n",
    "py3-oop-quickref.ipynb\n",
    "----------------------\n",
    "notes, examples, tips, etc.\n",
    "--->\n",
    "<hr>\n",
    "<h1><u>OOP Python Quick-Reference</u></h1>\n",
    "<i>Notes, examples, tips, etc.</i><br>\n",
    "<hr>\n",
    "<p>\n",
    "    <strong><em>Authored by: </em></strong><a href=mailto:brianc2788@gmail.com>brianc2788@gmail.com</a><br>\n",
    "    <strong><em>Github: </em></strong><a href=\"https://github.com/user5260/user5260\">user5260</a>\n",
    "</p>\n",
    "<hr>"
   ]
  },
  {
   "cell_type": "markdown",
   "id": "5a8f676f",
   "metadata": {},
   "source": [
    "<h2><u>Basic Class Definition</u></h2>\n",
    "\n",
    "```python\n",
    "def myClass(object):\n",
    "    __init__(self):\n",
    "        #CTOR\n",
    "    #variables\n",
    "    #functions\n",
    "    #etc.\n",
    "```"
   ]
  },
  {
   "cell_type": "markdown",
   "id": "8557c001",
   "metadata": {},
   "source": [
    "<h3>Examples:</h3>\n",
    "<br>\n",
    "<i>Class with constructor (initializers) and methods</i>\n",
    "\n",
    "```python\n",
    "# Employee ID class object.\n",
    "\n",
    "def Employee(object):\n",
    "    def __init__(self,name,number):\n",
    "        self.name = name\n",
    "        self.number = number\n",
    "        self.note = ''\n",
    "    \n",
    "    def getname(self):\n",
    "        return self.name\n",
    "    def getnumber(self):\n",
    "        return self.number\n",
    "    def setnote(self,str):\n",
    "        self.note = str\n",
    "    def getnote(self):\n",
    "        return self.note\n",
    "```"
   ]
  },
  {
   "cell_type": "code",
   "execution_count": null,
   "id": "0eb4f5d0",
   "metadata": {},
   "outputs": [],
   "source": []
  }
 ],
 "metadata": {
  "kernelspec": {
   "display_name": "Python 3 (ipykernel)",
   "language": "python",
   "name": "python3"
  },
  "language_info": {
   "codemirror_mode": {
    "name": "ipython",
    "version": 3
   },
   "file_extension": ".py",
   "mimetype": "text/x-python",
   "name": "python",
   "nbconvert_exporter": "python",
   "pygments_lexer": "ipython3",
   "version": "3.9.11"
  }
 },
 "nbformat": 4,
 "nbformat_minor": 5
}
