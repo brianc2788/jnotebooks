{
 "cells": [
  {
   "cell_type": "markdown",
   "id": "d0c290e6",
   "metadata": {},
   "source": [
    "# Python Lambdas #\n",
    "*Quick Reference*\n",
    "\n",
    "&COPY; [brianc2788@gmail.com](mailto:brianc2788@gmail.com)\n",
    "\n",
    "---"
   ]
  },
  {
   "cell_type": "code",
   "execution_count": 6,
   "id": "76644924",
   "metadata": {},
   "outputs": [
    {
     "ename": "SyntaxError",
     "evalue": "invalid syntax (2278463266.py, line 3)",
     "output_type": "error",
     "traceback": [
      "\u001b[0;36m  File \u001b[0;32m\"/tmp/ipykernel_58722/2278463266.py\"\u001b[0;36m, line \u001b[0;32m3\u001b[0m\n\u001b[0;31m    while lambda\u001b[0m\n\u001b[0m                 ^\u001b[0m\n\u001b[0;31mSyntaxError\u001b[0m\u001b[0;31m:\u001b[0m invalid syntax\n"
     ]
    }
   ],
   "source": [
    "minVal = 1\n",
    "maxVal = 5\n",
    "while lambda f\n",
    "    print(\"{0} x {1}\".format(minVal,data.count()))\n",
    "    minVal += 1"
   ]
  },
  {
   "cell_type": "code",
   "execution_count": 9,
   "id": "caa18d63",
   "metadata": {},
   "outputs": [
    {
     "name": "stdout",
     "output_type": "stream",
     "text": [
      "thing1\n",
      "thing2\n",
      "thing3\n",
      "thing4\n",
      "thing5\n"
     ]
    }
   ],
   "source": [
    "\"\"\" '_' in python means an item returned in a pair can be ignored; according to something I read. \"\"\"\n",
    "pairs = {'thing1':1,'thing2':2,'thing3':3,'thing4':4,'thing5':5}\n",
    "for n,_ in pairs.items():\n",
    "    print(n)"
   ]
  },
  {
   "cell_type": "code",
   "execution_count": null,
   "id": "fd7520ee",
   "metadata": {},
   "outputs": [],
   "source": []
  }
 ],
 "metadata": {
  "kernelspec": {
   "display_name": "Python 3 (ipykernel)",
   "language": "python",
   "name": "python3"
  },
  "language_info": {
   "codemirror_mode": {
    "name": "ipython",
    "version": 3
   },
   "file_extension": ".py",
   "mimetype": "text/x-python",
   "name": "python",
   "nbconvert_exporter": "python",
   "pygments_lexer": "ipython3",
   "version": "3.10.4"
  }
 },
 "nbformat": 4,
 "nbformat_minor": 5
}
