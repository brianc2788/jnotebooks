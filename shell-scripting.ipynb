{
 "cells": [
  {
   "cell_type": "markdown",
   "id": "a95c58db",
   "metadata": {},
   "source": [
    "<!---\n",
    "shell-scripting.ipynb\n",
    "---------------------\n",
    "A jupyter notebook with instructions and examples of shell scripting.\n",
    "Intended to be rendered in Markdown with github's rendering engine.\n",
    "---------------------\n",
    "Authored by brianc2788@gmail.com\n",
    "--->\n",
    "<hr>\n",
    "\n",
    "# <u>Shell Scripting</u>\n",
    "*Reference guide for shell scripting with examples.*  \n",
    "\n",
    "**Authored by** [brianc2788](mailto:brianc2788@gmail.com)  \n",
    "**Github** [Repositories](https://github.com/user5260) **-** [Profile](https://github.com/user5260/user5260)"
   ]
  },
  {
   "cell_type": "markdown",
   "id": "24ede8b8",
   "metadata": {},
   "source": [
    "<!---\n",
    "Table of Contents\n",
    "--->\n",
    "---\n",
    "# TABLE OF CONTENTS\n",
    "\n",
    "**I. Variables & Functions**  \n",
    "- Declaring and referencing variables and functions\n",
    "**II. Flow Control**\n",
    "- *If-Else Statements*\n",
    "- *Loops - for, while* **<u>UNDER CONSTRUCTION</u>**"
   ]
  },
  {
   "cell_type": "markdown",
   "id": "88d4356b",
   "metadata": {},
   "source": [
    "<!--- I. Variables & Functions --->\n",
    "<hr>\n",
    "\n",
    "# I. Variables & Functions\n",
    "**<u>Declaring and referencing *variables* and *functions*.<u/>**\n",
    "\n",
    "```bash\n",
    "VAR1=\"variable one\"\n",
    "VAR2='1'\n",
    "echo \"${VAR1}\"\n",
    "echo \"$VAR2\"\n",
    "```\n",
    "*<u>output:</u>*  \n",
    "> \\> variable one  \n",
    "> \\> 1\n",
    "    \n",
    "*Showing a couple ways to declare, initialize, and refer to user-defined environment variables.*  \n",
    "*Note that using echo with single quotes here will fail. Only double quotes can expand \"$args\".*\n",
    "\n",
    "**<u>Declaring and using a function; with & without arguments.</u>**  \n",
    "*<u>Example</u>*\n",
    "\n",
    "```bash\n",
    "print_fstr() {\n",
    "    echo \"this function prints its own fixed string.\"\n",
    "}\n",
    "\n",
    "print_ustr() {\n",
    "    # This function prints the argument passed to it.\n",
    "    # It is echo-ing the first argument it recieved; hence the '1'.\n",
    "    echo \"$1\"\n",
    "}\n",
    "\n",
    "print_fstr\n",
    "print_ustr \"passing a literal, fixed string\"\n",
    "\n",
    "NEWVAR=\"newly declared string\"\n",
    "print_ustr ${NEWVAR}\n",
    "```\n",
    "*<u>Terminal Output:</u>*\n",
    "> \\> This function prints its own fixed string.  \n",
    "> \\> Passing a literal, fixed string.  \n",
    "> \\> Newly declared string\n",
    "<br>"
   ]
  },
  {
   "cell_type": "markdown",
   "id": "fe0255c6",
   "metadata": {},
   "source": [
    "<!---\n",
    "REFERENCE BLOCK: FLOW CONTROL\n",
    "--->\n",
    "---\n",
    "# II. Flow Control\n",
    "**<u>IF-ELSE Statements</u>**  \n",
    "*<u>Notes:</u>*  \n",
    "- The whitespace inside the sq. brackets are necessary delimiters.\n",
    "- Variables can also be referenced without braces; e.g. \\\"\\$\\V\\A\\R1.\\\"\n",
    "\n",
    "*<u>Example</u>*\n",
    "```bash\n",
    "if [ ${VAR1} -ne 2 ]; then\n",
    "    echo \"VAR1 does not equal 2.\"\n",
    "else\n",
    "    echo \"VAR1 value: ${VAR1}\"\n",
    "fi\n",
    "```"
   ]
  },
  {
   "cell_type": "code",
   "execution_count": null,
   "id": "e644f4c3",
   "metadata": {},
   "outputs": [],
   "source": []
  }
 ],
 "metadata": {
  "kernelspec": {
   "display_name": "Python 3 (ipykernel)",
   "language": "python",
   "name": "python3"
  },
  "language_info": {
   "codemirror_mode": {
    "name": "ipython",
    "version": 3
   },
   "file_extension": ".py",
   "mimetype": "text/x-python",
   "name": "python",
   "nbconvert_exporter": "python",
   "pygments_lexer": "ipython3",
   "version": "3.9.12"
  },
  "widgets": {
   "application/vnd.jupyter.widget-state+json": {
    "state": {},
    "version_major": 1,
    "version_minor": 0
   }
  }
 },
 "nbformat": 4,
 "nbformat_minor": 5
}
