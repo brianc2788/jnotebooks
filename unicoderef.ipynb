{
 "cells": [
  {
   "cell_type": "markdown",
   "id": "95f8d79e",
   "metadata": {},
   "source": [
    "<!--\n",
    "unicoderef\n",
    "jupyter notebook (ipynb)\n",
    "-->\n",
    "# Unicode Reference #\n",
    "\n",
    "*Using python to understand Unicode **encoding** and **codepoints**.*\n",
    "\n",
    "Authored by [brianc2788@gmail.com](mailto:brianc2788@gmail.com)\n",
    "\n",
    "---"
   ]
  },
  {
   "cell_type": "code",
   "execution_count": 12,
   "id": "e95b45fb",
   "metadata": {},
   "outputs": [
    {
     "name": "stdout",
     "output_type": "stream",
     "text": [
      "var: hex_value\n",
      "value: ²\n"
     ]
    }
   ],
   "source": [
    "hex_value = '\\xb2'\n",
    "print(\"var: {0}\\nvalue: {1}\".format('hex_value',hex_value))"
   ]
  },
  {
   "cell_type": "code",
   "execution_count": 13,
   "id": "729224a5",
   "metadata": {},
   "outputs": [
    {
     "name": "stdout",
     "output_type": "stream",
     "text": [
      "²\n"
     ]
    }
   ],
   "source": [
    "codepoint_value = '\\u00b2'\n",
    "print(codepoint_value)"
   ]
  },
  {
   "cell_type": "code",
   "execution_count": null,
   "id": "38d4f12f",
   "metadata": {},
   "outputs": [],
   "source": []
  }
 ],
 "metadata": {
  "kernelspec": {
   "display_name": "Python 3 (ipykernel)",
   "language": "python",
   "name": "python3"
  },
  "language_info": {
   "codemirror_mode": {
    "name": "ipython",
    "version": 3
   },
   "file_extension": ".py",
   "mimetype": "text/x-python",
   "name": "python",
   "nbconvert_exporter": "python",
   "pygments_lexer": "ipython3",
   "version": "3.10.4"
  }
 },
 "nbformat": 4,
 "nbformat_minor": 5
}
