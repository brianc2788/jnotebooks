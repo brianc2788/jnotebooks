{
 "cells": [
  {
   "cell_type": "markdown",
   "id": "76c9f4fa",
   "metadata": {},
   "source": [
    "<!---\n",
    "vim-tips-tricks.ipynb\n",
    "---------------------\n",
    "Vim text-editor notebook.\n",
    "Authored by brianc2788@gmail.com\n",
    "--->\n",
    "# Vim - Tips & Tricks\n",
    "#### Authored by brianc2788@gmail.com\n",
    "---"
   ]
  },
  {
   "cell_type": "markdown",
   "id": "b73c5849",
   "metadata": {},
   "source": [
    "<!---\n",
    "Contents\n",
    "--->\n",
    "# <u>**CONTENTS**</u>\n",
    "**I. Text Editing**\n",
    "- *Deletion*\n",
    "- *Insertion*\n",
    "**II. Movement**\n",
    "- *Basic Traversal*"
   ]
  },
  {
   "cell_type": "markdown",
   "id": "92dd6189",
   "metadata": {},
   "source": [
    "<!---\n",
    "Section: Text Editing\n",
    "--->\n",
    "---\n",
    "# I. Text Editing\n",
    "---\n",
    "### Deletion\n",
    "- **dw** : delete word (cursor)\n",
    "- **d\\$** : to the end of the current word (or until whitespace)\n",
    "- **\\#dd** : number of lines to delete\n",
    "- **dd\\$** : delete to the end of the line\n",
    "<p></p>\n",
    "- **x** : removes the char (cursor)\n",
    "\n",
    "### Insertion  \n",
    "- **i** : Insert mode\n",
    "- **r** : Replaces the highlighted character with the next character-key pressed.\n",
    "- **p** : Pastes the last character(s) that were deleted."
   ]
  },
  {
   "cell_type": "markdown",
   "id": "0824f35e",
   "metadata": {},
   "source": [
    "<!---\n",
    "Section: Movement\n",
    "--->\n",
    "---\n",
    "# II. Movement\n",
    "---\n",
    "### Basic Traversal\n",
    "- **j** : Down\n",
    "- **k** : Up\n",
    "- **h** : Left\n",
    "- **l** : Right\n",
    "<p></p>\n",
    "- **g** : Go to the top of the file; e.g. to line 1.\n",
    "- **G** : Go to the bottom of the file; e.g. last line.\n",
    "- **Ctl+g** : Show current line number and relative location."
   ]
  },
  {
   "cell_type": "code",
   "execution_count": null,
   "id": "9c0d250f",
   "metadata": {},
   "outputs": [],
   "source": []
  }
 ],
 "metadata": {
  "kernelspec": {
   "display_name": "Python 3 (ipykernel)",
   "language": "python",
   "name": "python3"
  },
  "language_info": {
   "codemirror_mode": {
    "name": "ipython",
    "version": 3
   },
   "file_extension": ".py",
   "mimetype": "text/x-python",
   "name": "python",
   "nbconvert_exporter": "python",
   "pygments_lexer": "ipython3",
   "version": "3.9.12"
  }
 },
 "nbformat": 4,
 "nbformat_minor": 5
}
